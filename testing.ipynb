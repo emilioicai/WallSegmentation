{
 "cells": [
  {
   "cell_type": "code",
   "execution_count": null,
   "metadata": {
    "pycharm": {
     "name": "#%%\n"
    }
   },
   "outputs": [],
   "source": [
    "from matplotlib.pyplot import imshow\n",
    "\n",
    "from models.models import SegmentationModule, build_encoder, build_decoder\n",
    "from src.eval import segment_image\n",
    "from utils.constants import DEVICE"
   ]
  },
  {
   "cell_type": "code",
   "execution_count": null,
   "metadata": {
    "pycharm": {
     "name": "#%%\n"
    }
   },
   "outputs": [],
   "source": [
    "# path to image on which to run wall segmentation\n",
    "path_image = 'PATH_TO_IMAGE'\n",
    "\n",
    "# Model weights (encoder and decoder)\n",
    "weights_encoder = 'PATH_TO_ENCODER_WEIGHTS'\n",
    "weights_decoder = 'PATH_TO_DECODER_WEIGHTS'"
   ]
  },
  {
   "cell_type": "code",
   "execution_count": null,
   "metadata": {
    "pycharm": {
     "name": "#%%\n"
    }
   },
   "outputs": [],
   "source": [
    "net_encoder = build_encoder(weights_encoder)\n",
    "net_decoder = build_decoder(weights_decoder)\n",
    "\n",
    "segmentation_module = SegmentationModule(net_encoder, net_decoder)\n",
    "segmentation_module = segmentation_module.to(DEVICE).eval()"
   ]
  },
  {
   "cell_type": "code",
   "execution_count": null,
   "metadata": {
    "pycharm": {
     "name": "#%%\n"
    }
   },
   "outputs": [],
   "source": [
    "# Predict wall on input image and return segmentation mask\n",
    "segmentation_mask = segment_image(segmentation_module, path_image)"
   ]
  },
  {
   "cell_type": "code",
   "execution_count": null,
   "metadata": {
    "pycharm": {
     "name": "#%%\n"
    }
   },
   "outputs": [],
   "source": [
    "# Display segmentation mask\n",
    "imshow(segmentation_mask)"
   ]
  }
 ],
 "metadata": {
  "accelerator": "GPU",
  "colab": {
   "collapsed_sections": [],
   "name": "Testing.ipynb",
   "provenance": []
  },
  "kernelspec": {
   "display_name": "Python 3 (ipykernel)",
   "language": "python",
   "name": "python3"
  },
  "language_info": {
   "codemirror_mode": {
    "name": "ipython",
    "version": 3
   },
   "file_extension": ".py",
   "mimetype": "text/x-python",
   "name": "python",
   "nbconvert_exporter": "python",
   "pygments_lexer": "ipython3",
   "version": "3.9.10"
  }
 },
 "nbformat": 4,
 "nbformat_minor": 1
}
